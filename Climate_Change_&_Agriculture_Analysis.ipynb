{
  "metadata": {
    "kernelspec": {
      "language": "python",
      "display_name": "Python 3",
      "name": "python3"
    },
    "language_info": {
      "name": "python",
      "version": "3.10.14",
      "mimetype": "text/x-python",
      "codemirror_mode": {
        "name": "ipython",
        "version": 3
      },
      "pygments_lexer": "ipython3",
      "nbconvert_exporter": "python",
      "file_extension": ".py"
    },
    "kaggle": {
      "accelerator": "none",
      "dataSources": [
        {
          "sourceId": 9333642,
          "sourceType": "datasetVersion",
          "datasetId": 5655659
        }
      ],
      "dockerImageVersionId": 30761,
      "isInternetEnabled": true,
      "language": "python",
      "sourceType": "notebook",
      "isGpuEnabled": false
    },
    "colab": {
      "name": "Climate Change & Agriculture Analysis",
      "provenance": [],
      "include_colab_link": true
    }
  },
  "nbformat_minor": 0,
  "nbformat": 4,
  "cells": [
    {
      "cell_type": "markdown",
      "metadata": {
        "id": "view-in-github",
        "colab_type": "text"
      },
      "source": [
        "<a href=\"https://colab.research.google.com/github/sravani223/ADM_PROJECT/blob/main/Climate_Change_%26_Agriculture_Analysis.ipynb\" target=\"_parent\"><img src=\"https://colab.research.google.com/assets/colab-badge.svg\" alt=\"Open In Colab\"/></a>"
      ]
    },
    {
      "source": [
        "# IMPORTANT: RUN THIS CELL IN ORDER TO IMPORT YOUR KAGGLE DATA SOURCES,\n",
        "# THEN FEEL FREE TO DELETE THIS CELL.\n",
        "# NOTE: THIS NOTEBOOK ENVIRONMENT DIFFERS FROM KAGGLE'S PYTHON\n",
        "# ENVIRONMENT SO THERE MAY BE MISSING LIBRARIES USED BY YOUR\n",
        "# NOTEBOOK.\n",
        "import kagglehub\n",
        "waqi786_climate_change_impact_on_agriculture_path = kagglehub.dataset_download('waqi786/climate-change-impact-on-agriculture')\n",
        "\n",
        "print('Data source import complete.')\n"
      ],
      "metadata": {
        "id": "5a4SKZMjhAPj"
      },
      "cell_type": "code",
      "outputs": [],
      "execution_count": null
    },
    {
      "cell_type": "code",
      "source": [
        "import pandas as pd\n",
        "import matplotlib.pyplot as plt\n",
        "import seaborn as sns\n",
        "\n",
        "# Load the dataset\n",
        "file_path = '/kaggle/input/climate-change-impact-on-agriculture/climate_change_impact_on_agriculture_2024.csv'\n",
        "data = pd.read_csv(file_path)\n",
        "\n",
        "# Display the first few rows of the dataset\n",
        "data.head()\n"
      ],
      "metadata": {
        "execution": {
          "iopub.status.busy": "2024-09-06T14:19:59.152906Z",
          "iopub.execute_input": "2024-09-06T14:19:59.154521Z",
          "iopub.status.idle": "2024-09-06T14:19:59.226013Z",
          "shell.execute_reply.started": "2024-09-06T14:19:59.154458Z",
          "shell.execute_reply": "2024-09-06T14:19:59.224322Z"
        },
        "trusted": true,
        "id": "BZGRv_uChAPp"
      },
      "execution_count": null,
      "outputs": []
    },
    {
      "cell_type": "code",
      "source": [
        "# Display column names\n",
        "data.columns\n"
      ],
      "metadata": {
        "execution": {
          "iopub.status.busy": "2024-09-06T14:20:09.45126Z",
          "iopub.execute_input": "2024-09-06T14:20:09.451796Z",
          "iopub.status.idle": "2024-09-06T14:20:09.461473Z",
          "shell.execute_reply.started": "2024-09-06T14:20:09.451751Z",
          "shell.execute_reply": "2024-09-06T14:20:09.459795Z"
        },
        "trusted": true,
        "id": "jiHkPAC6hAPr"
      },
      "execution_count": null,
      "outputs": []
    },
    {
      "cell_type": "code",
      "source": [
        "plt.figure(figsize=(12, 6))\n",
        "sns.barplot(x='Region', y='Average_Temperature_C', data=data, estimator='mean')\n",
        "plt.title('Average Temperature by Region')\n",
        "plt.xlabel('Region')\n",
        "plt.ylabel('Average Temperature (°C)')\n",
        "plt.xticks(rotation=45)\n",
        "plt.show()\n"
      ],
      "metadata": {
        "execution": {
          "iopub.status.busy": "2024-09-06T14:20:36.252115Z",
          "iopub.execute_input": "2024-09-06T14:20:36.252674Z",
          "iopub.status.idle": "2024-09-06T14:20:37.98223Z",
          "shell.execute_reply.started": "2024-09-06T14:20:36.252626Z",
          "shell.execute_reply": "2024-09-06T14:20:37.981025Z"
        },
        "trusted": true,
        "id": "ZYxWRYHghAPt"
      },
      "execution_count": null,
      "outputs": []
    },
    {
      "cell_type": "code",
      "source": [
        "plt.figure(figsize=(12, 6))\n",
        "sns.lineplot(x='Year', y='Crop_Yield_MT_per_HA', data=data)\n",
        "plt.title('Crop Yield Over Years')\n",
        "plt.xlabel('Year')\n",
        "plt.ylabel('Crop Yield (MT per HA)')\n",
        "plt.show()\n"
      ],
      "metadata": {
        "execution": {
          "iopub.status.busy": "2024-09-06T14:21:35.725775Z",
          "iopub.execute_input": "2024-09-06T14:21:35.726255Z",
          "iopub.status.idle": "2024-09-06T14:21:37.201295Z",
          "shell.execute_reply.started": "2024-09-06T14:21:35.726211Z",
          "shell.execute_reply": "2024-09-06T14:21:37.199785Z"
        },
        "trusted": true,
        "id": "wp-PZJl3hAPt"
      },
      "execution_count": null,
      "outputs": []
    },
    {
      "cell_type": "code",
      "source": [
        "plt.figure(figsize=(8, 8))\n",
        "data['Crop_Type'].value_counts().plot.pie(autopct='%1.1f%%', startangle=140)\n",
        "plt.title('Percentage of Countries by Crop Type')\n",
        "plt.show()\n"
      ],
      "metadata": {
        "execution": {
          "iopub.status.busy": "2024-09-06T14:22:11.48436Z",
          "iopub.execute_input": "2024-09-06T14:22:11.485434Z",
          "iopub.status.idle": "2024-09-06T14:22:11.718709Z",
          "shell.execute_reply.started": "2024-09-06T14:22:11.485386Z",
          "shell.execute_reply": "2024-09-06T14:22:11.717327Z"
        },
        "trusted": true,
        "id": "xS_6U-kRhAPu"
      },
      "execution_count": null,
      "outputs": []
    },
    {
      "cell_type": "code",
      "source": [
        "plt.figure(figsize=(12, 6))\n",
        "sns.histplot(data['CO2_Emissions_MT'], bins=30, kde=True)\n",
        "plt.title('Distribution of CO2 Emissions')\n",
        "plt.xlabel('CO2 Emissions (MT)')\n",
        "plt.ylabel('Frequency')\n",
        "plt.show()\n"
      ],
      "metadata": {
        "execution": {
          "iopub.status.busy": "2024-09-06T14:26:06.451376Z",
          "iopub.execute_input": "2024-09-06T14:26:06.451855Z",
          "iopub.status.idle": "2024-09-06T14:26:06.946191Z",
          "shell.execute_reply.started": "2024-09-06T14:26:06.451814Z",
          "shell.execute_reply": "2024-09-06T14:26:06.9448Z"
        },
        "trusted": true,
        "id": "VzGA5RDhhAPv"
      },
      "execution_count": null,
      "outputs": []
    },
    {
      "cell_type": "code",
      "source": [
        "plt.figure(figsize=(12, 6))\n",
        "sns.boxplot(x='Country', y='Crop_Yield_MT_per_HA', data=data)\n",
        "plt.title('Crop Yield by Country')\n",
        "plt.xlabel('Country')\n",
        "plt.ylabel('Crop Yield (MT per HA)')\n",
        "plt.xticks(rotation=90)\n",
        "plt.show()\n"
      ],
      "metadata": {
        "execution": {
          "iopub.status.busy": "2024-09-06T14:26:42.585185Z",
          "iopub.execute_input": "2024-09-06T14:26:42.585666Z",
          "iopub.status.idle": "2024-09-06T14:26:42.958701Z",
          "shell.execute_reply.started": "2024-09-06T14:26:42.585623Z",
          "shell.execute_reply": "2024-09-06T14:26:42.957528Z"
        },
        "trusted": true,
        "id": "DTya1f7dhAPx"
      },
      "execution_count": null,
      "outputs": []
    },
    {
      "cell_type": "code",
      "source": [
        "plt.figure(figsize=(12, 10))\n",
        "correlation_matrix = data[['Average_Temperature_C', 'Total_Precipitation_mm', 'CO2_Emissions_MT', 'Crop_Yield_MT_per_HA',\n",
        "                           'Extreme_Weather_Events', 'Irrigation_Access_%', 'Pesticide_Use_KG_per_HA', 'Fertilizer_Use_KG_per_HA',\n",
        "                           'Soil_Health_Index', 'Economic_Impact_Million_USD']].corr()\n",
        "sns.heatmap(correlation_matrix, annot=True, cmap='coolwarm', fmt='.2f')\n",
        "plt.title('Correlation Matrix of Numeric Variables')\n",
        "plt.show()\n"
      ],
      "metadata": {
        "execution": {
          "iopub.status.busy": "2024-09-06T14:27:10.853977Z",
          "iopub.execute_input": "2024-09-06T14:27:10.854478Z",
          "iopub.status.idle": "2024-09-06T14:27:11.596744Z",
          "shell.execute_reply.started": "2024-09-06T14:27:10.854436Z",
          "shell.execute_reply": "2024-09-06T14:27:11.594917Z"
        },
        "trusted": true,
        "id": "n8PfEs6JhAPz"
      },
      "execution_count": null,
      "outputs": []
    },
    {
      "cell_type": "code",
      "source": [
        "plt.figure(figsize=(12, 6))\n",
        "sns.scatterplot(x='CO2_Emissions_MT', y='Crop_Yield_MT_per_HA', data=data)\n",
        "plt.title('CO2 Emissions vs. Crop Yield')\n",
        "plt.xlabel('CO2 Emissions (MT)')\n",
        "plt.ylabel('Crop Yield (MT per HA)')\n",
        "plt.show()\n"
      ],
      "metadata": {
        "execution": {
          "iopub.status.busy": "2024-09-06T14:27:41.68712Z",
          "iopub.execute_input": "2024-09-06T14:27:41.687663Z",
          "iopub.status.idle": "2024-09-06T14:27:42.049459Z",
          "shell.execute_reply.started": "2024-09-06T14:27:41.687618Z",
          "shell.execute_reply": "2024-09-06T14:27:42.048028Z"
        },
        "trusted": true,
        "id": "XyClk0SdhAP1"
      },
      "execution_count": null,
      "outputs": []
    },
    {
      "cell_type": "code",
      "source": [
        "sns.pairplot(data[['Average_Temperature_C', 'Total_Precipitation_mm', 'CO2_Emissions_MT', 'Crop_Yield_MT_per_HA',\n",
        "                   'Extreme_Weather_Events', 'Irrigation_Access_%', 'Pesticide_Use_KG_per_HA',\n",
        "                   'Fertilizer_Use_KG_per_HA', 'Soil_Health_Index']])\n",
        "plt.title('Pairwise Relationships in Data')\n",
        "plt.show()\n"
      ],
      "metadata": {
        "execution": {
          "iopub.status.busy": "2024-09-06T14:27:57.230924Z",
          "iopub.execute_input": "2024-09-06T14:27:57.231412Z",
          "iopub.status.idle": "2024-09-06T14:28:26.967331Z",
          "shell.execute_reply.started": "2024-09-06T14:27:57.231371Z",
          "shell.execute_reply": "2024-09-06T14:28:26.964928Z"
        },
        "trusted": true,
        "id": "SMLzk1h8hAP2"
      },
      "execution_count": null,
      "outputs": []
    },
    {
      "cell_type": "code",
      "source": [
        "sns.pairplot(data[['Average_Temperature_C', 'Total_Precipitation_mm', 'CO2_Emissions_MT', 'Crop_Yield_MT_per_HA',\n",
        "                   'Extreme_Weather_Events', 'Irrigation_Access_%', 'Pesticide_Use_KG_per_HA',\n",
        "                   'Fertilizer_Use_KG_per_HA', 'Soil_Health_Index']])\n",
        "plt.title('Pairwise Relationships in Data')\n",
        "plt.show()\n"
      ],
      "metadata": {
        "execution": {
          "iopub.status.busy": "2024-09-06T14:29:38.839722Z",
          "iopub.execute_input": "2024-09-06T14:29:38.840206Z",
          "iopub.status.idle": "2024-09-06T14:30:08.44738Z",
          "shell.execute_reply.started": "2024-09-06T14:29:38.840164Z",
          "shell.execute_reply": "2024-09-06T14:30:08.443957Z"
        },
        "trusted": true,
        "id": "lTIMFMTthAP3"
      },
      "execution_count": null,
      "outputs": []
    },
    {
      "cell_type": "code",
      "source": [
        "plt.figure(figsize=(12, 6))\n",
        "sns.boxplot(x='Region', y='Economic_Impact_Million_USD', data=data)\n",
        "plt.title('Economic Impact by Region')\n",
        "plt.xlabel('Region')\n",
        "plt.ylabel('Economic Impact (Million USD)')\n",
        "plt.xticks(rotation=45)\n",
        "plt.show()\n"
      ],
      "metadata": {
        "execution": {
          "iopub.status.busy": "2024-09-06T14:30:08.449713Z",
          "iopub.execute_input": "2024-09-06T14:30:08.4502Z",
          "iopub.status.idle": "2024-09-06T14:30:09.328367Z",
          "shell.execute_reply.started": "2024-09-06T14:30:08.450154Z",
          "shell.execute_reply": "2024-09-06T14:30:09.326722Z"
        },
        "trusted": true,
        "id": "9AncbGgvhAP3"
      },
      "execution_count": null,
      "outputs": []
    },
    {
      "cell_type": "code",
      "source": [
        "plt.figure(figsize=(12, 6))\n",
        "sns.violinplot(x='Crop_Type', y='Irrigation_Access_%', data=data)\n",
        "plt.title('Irrigation Access by Crop Type')\n",
        "plt.xlabel('Crop Type')\n",
        "plt.ylabel('Irrigation Access (%)')\n",
        "plt.xticks(rotation=45)\n",
        "plt.show()\n"
      ],
      "metadata": {
        "execution": {
          "iopub.status.busy": "2024-09-06T14:30:14.613145Z",
          "iopub.execute_input": "2024-09-06T14:30:14.613657Z",
          "iopub.status.idle": "2024-09-06T14:30:15.148299Z",
          "shell.execute_reply.started": "2024-09-06T14:30:14.613613Z",
          "shell.execute_reply": "2024-09-06T14:30:15.14683Z"
        },
        "trusted": true,
        "id": "Ly66xVa9hAP4"
      },
      "execution_count": null,
      "outputs": []
    },
    {
      "cell_type": "code",
      "source": [
        "plt.figure(figsize=(12, 6))\n",
        "sns.countplot(x='Region', hue='Extreme_Weather_Events', data=data)\n",
        "plt.title('Extreme Weather Events by Region')\n",
        "plt.xlabel('Region')\n",
        "plt.ylabel('Count')\n",
        "plt.xticks(rotation=45)\n",
        "plt.show()\n"
      ],
      "metadata": {
        "execution": {
          "iopub.status.busy": "2024-09-06T14:30:34.896629Z",
          "iopub.execute_input": "2024-09-06T14:30:34.897107Z",
          "iopub.status.idle": "2024-09-06T14:30:37.047791Z",
          "shell.execute_reply.started": "2024-09-06T14:30:34.89706Z",
          "shell.execute_reply": "2024-09-06T14:30:37.046297Z"
        },
        "trusted": true,
        "id": "MkppnE0UhAP4"
      },
      "execution_count": null,
      "outputs": []
    },
    {
      "cell_type": "code",
      "source": [
        "plt.figure(figsize=(12, 6))\n",
        "sns.lineplot(x='Year', y='Pesticide_Use_KG_per_HA', data=data)\n",
        "plt.title('Pesticide Use Over Years')\n",
        "plt.xlabel('Year')\n",
        "plt.ylabel('Pesticide Use (KG per HA)')\n",
        "plt.show()\n"
      ],
      "metadata": {
        "execution": {
          "iopub.status.busy": "2024-09-06T14:31:04.335403Z",
          "iopub.execute_input": "2024-09-06T14:31:04.335889Z",
          "iopub.status.idle": "2024-09-06T14:31:05.819119Z",
          "shell.execute_reply.started": "2024-09-06T14:31:04.335847Z",
          "shell.execute_reply": "2024-09-06T14:31:05.817602Z"
        },
        "trusted": true,
        "id": "d1-KLMDzhAP5"
      },
      "execution_count": null,
      "outputs": []
    },
    {
      "cell_type": "code",
      "source": [
        "plt.figure(figsize=(12, 6))\n",
        "sns.histplot(data['Soil_Health_Index'], bins=30, kde=True)\n",
        "plt.title('Distribution of Soil Health Index')\n",
        "plt.xlabel('Soil Health Index')\n",
        "plt.ylabel('Frequency')\n",
        "plt.show()\n"
      ],
      "metadata": {
        "execution": {
          "iopub.status.busy": "2024-09-06T14:34:25.256391Z",
          "iopub.execute_input": "2024-09-06T14:34:25.256964Z",
          "iopub.status.idle": "2024-09-06T14:34:25.794457Z",
          "shell.execute_reply.started": "2024-09-06T14:34:25.256917Z",
          "shell.execute_reply": "2024-09-06T14:34:25.792338Z"
        },
        "trusted": true,
        "id": "lO5Ht8LqhAP5"
      },
      "execution_count": null,
      "outputs": []
    },
    {
      "cell_type": "code",
      "source": [
        "plt.figure(figsize=(10, 8))\n",
        "temp_yield_corr = data[['Average_Temperature_C', 'Crop_Yield_MT_per_HA']].corr()\n",
        "sns.heatmap(temp_yield_corr, annot=True, cmap='coolwarm', fmt='.2f')\n",
        "plt.title('Correlation between Temperature and Crop Yield')\n",
        "plt.show()\n"
      ],
      "metadata": {
        "execution": {
          "iopub.status.busy": "2024-09-06T14:35:51.746639Z",
          "iopub.execute_input": "2024-09-06T14:35:51.747176Z",
          "iopub.status.idle": "2024-09-06T14:35:52.146392Z",
          "shell.execute_reply.started": "2024-09-06T14:35:51.747132Z",
          "shell.execute_reply": "2024-09-06T14:35:52.144607Z"
        },
        "trusted": true,
        "id": "bLCOH493hAP5"
      },
      "execution_count": null,
      "outputs": []
    },
    {
      "cell_type": "code",
      "source": [
        "sns.pairplot(data[['Crop_Yield_MT_per_HA', 'Average_Temperature_C', 'Total_Precipitation_mm', 'CO2_Emissions_MT']])\n",
        "plt.title('Pairwise Relationships of Crop Yield and Environmental Factors')\n",
        "plt.show()\n"
      ],
      "metadata": {
        "execution": {
          "iopub.status.busy": "2024-09-06T14:37:36.759438Z",
          "iopub.execute_input": "2024-09-06T14:37:36.759943Z",
          "iopub.status.idle": "2024-09-06T14:37:42.541591Z",
          "shell.execute_reply.started": "2024-09-06T14:37:36.759901Z",
          "shell.execute_reply": "2024-09-06T14:37:42.540063Z"
        },
        "trusted": true,
        "id": "xLVeGTARhAP6"
      },
      "execution_count": null,
      "outputs": []
    },
    {
      "cell_type": "code",
      "source": [
        "plt.figure(figsize=(12, 6))\n",
        "sns.scatterplot(x='Fertilizer_Use_KG_per_HA', y='Crop_Yield_MT_per_HA', data=data)\n",
        "plt.title('Fertilizer Use vs. Crop Yield')\n",
        "plt.xlabel('Fertilizer Use (KG per HA)')\n",
        "plt.ylabel('Crop Yield (MT per HA)')\n",
        "plt.show()\n"
      ],
      "metadata": {
        "execution": {
          "iopub.status.busy": "2024-09-06T14:38:09.473475Z",
          "iopub.execute_input": "2024-09-06T14:38:09.474049Z",
          "iopub.status.idle": "2024-09-06T14:38:09.909904Z",
          "shell.execute_reply.started": "2024-09-06T14:38:09.474002Z",
          "shell.execute_reply": "2024-09-06T14:38:09.908624Z"
        },
        "trusted": true,
        "id": "590QFPtfhAP6"
      },
      "execution_count": null,
      "outputs": []
    },
    {
      "cell_type": "markdown",
      "source": [
        "### Analysis Results and Next Steps\n",
        "\n",
        "#### Results:\n",
        "\n",
        "1. **Regional Temperature Variations**:\n",
        "   - **Finding**: Significant variation in average temperatures across different regions.\n",
        "   - **Impact**: Regions with higher temperatures may experience changes in crop yield and agricultural practices.\n",
        "\n",
        "2. **Trend in Crop Yield**:\n",
        "   - **Finding**: Crop yields have shown notable trends over the years.\n",
        "   - **Impact**: Understanding these trends helps in forecasting future crop performance and adjusting agricultural strategies.\n",
        "\n",
        "3. **Distribution of Crop Types**:\n",
        "   - **Finding**: Certain crop types dominate the dataset.\n",
        "   - **Impact**: This information can guide decisions on crop diversity and resource allocation.\n",
        "\n",
        "4. **CO2 Emissions Distribution**:\n",
        "   - **Finding**: Wide variability in CO2 emissions across the dataset.\n",
        "   - **Impact**: Identifies regions or practices with higher greenhouse gas contributions, which could be targeted for emissions reduction.\n",
        "\n",
        "5. **Correlation Analysis**:\n",
        "   - **Finding**: Significant correlations between environmental factors (e.g., temperature, CO2 emissions) and crop yield.\n",
        "   - **Impact**: Highlights key factors that influence agricultural productivity, aiding in targeted interventions.\n",
        "\n",
        "6. **Economic Impact**:\n",
        "   - **Finding**: Varying economic impacts across regions.\n",
        "   - **Impact**: Reflects differing levels of financial resources and agricultural efficiency, useful for economic planning.\n",
        "\n",
        "7. **Irrigation and Pesticide Use**:\n",
        "   - **Finding**: Variation in irrigation access and pesticide use by crop type.\n",
        "   - **Impact**: Suggests areas for potential improvement in agricultural practices and resource management.\n",
        "\n",
        "8. **Pairwise Relationships**:\n",
        "   - **Finding**: Complex relationships between crop yield and environmental factors.\n",
        "   - **Impact**: Provides a comprehensive view of how multiple variables interact to affect agricultural outcomes.\n",
        "\n",
        "#### Next Steps:\n",
        "\n",
        "1. **Develop Interactive Dashboards**:\n",
        "   - Create interactive dashboards using tools like Tableau or Power BI to visualize trends, correlations, and distributions dynamically.\n",
        "   - Incorporate filters to explore data by region, year, crop type, and other variables.\n",
        "\n",
        "2. **Conduct In-Depth Analysis**:\n",
        "   - Perform detailed statistical analyses to quantify the impact of temperature, CO2 emissions, and other factors on crop yield.\n",
        "   - Use regression models or machine learning techniques to predict future trends.\n",
        "\n",
        "3. **Implement Data-Driven Strategies**:\n",
        "   - Develop strategies to mitigate the impact of extreme temperatures and CO2 emissions on agriculture.\n",
        "   - Focus on improving irrigation systems and optimizing pesticide and fertilizer use based on findings.\n",
        "\n",
        "4. **Monitor and Update**:\n",
        "   - Continuously monitor data to track changes and assess the effectiveness of implemented strategies.\n",
        "   - Update the analysis and dashboards with new data to keep insights relevant and actionable.\n",
        "\n",
        "5. **Share Findings**:\n",
        "   - Prepare reports and presentations to communicate insights and recommendations to stakeholders, policymakers, and agricultural practitioners.\n",
        "   - Use visualizations to make complex data accessible and understandable.\n",
        "\n",
        "By following these next steps, you can effectively leverage the insights from the analysis to make informed decisions and drive improvements in agricultural practices and policy.\n"
      ],
      "metadata": {
        "id": "NVdnYr-YhAP7"
      }
    }
  ]
}